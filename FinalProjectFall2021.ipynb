{
  "cells": [
    {
      "cell_type": "markdown",
      "id": "fcd8ec85",
      "metadata": {
        "id": "fcd8ec85"
      },
      "source": [
        "# Final Project\n",
        "\n",
        "Financial Data Science II\n",
        "\n",
        "Fall 2021\n",
        "\n",
        "**Due Tuesday, December 7 at 5:00 PM**"
      ]
    },
    {
      "cell_type": "markdown",
      "id": "30a71dfc",
      "metadata": {
        "id": "30a71dfc"
      },
      "source": [
        "## Guidelines\n",
        "\n",
        "You should submit both your `.ipynb` file and a `.pdf` version of the notebook via Canvas.\n",
        "\n",
        "We should be able to take your code, and easily run it. It can load standard Python packages, of course, but it should otherwise be self-contained, not reliant upon any other code.\n",
        "\n",
        "This is to be completed in your groups. All group members should participate in, and understand, all aspects of the analysis.\n",
        "\n",
        "**Different groups are not allowed to interact or in any way communicate regarding their analyses.**\n",
        "\n",
        "We are not looking for a formal \"report,\" but **explain what you are doing** and **state any conclusions in practical terms.** For example, do not just say \"The p-value is 0.02.\" What does that mean in practical terms?\n",
        "\n",
        "Visualizations will be graded, in part, on their readability. Make fonts sufficiently large. Do not label axes with things such as \"CSCORE_B.\" Use readable names.\n",
        "\n",
        "You can email me with questions. If it is relevant to the entire class, I will ask you to post it on the Discussion Board. Please do not post questions directly to the Discussion Board regarding this, however."
      ]
    },
    {
      "cell_type": "markdown",
      "id": "ce027cdb",
      "metadata": {
        "id": "ce027cdb"
      },
      "source": [
        "## The Data\n",
        "\n",
        "We will continue using the Fannie Mae data set used in the Homeworks 2 and 3. Here we will use a different subset. Just as in Homework 2, it only contains loans for which there is a current unpaid balance, i.e. for which `CURRENT_UPB` is greater than zero.\n",
        "\n",
        "This data file is available as `project.csv` on Canvas."
      ]
    },
    {
      "cell_type": "markdown",
      "id": "6820cc6c",
      "metadata": {
        "id": "6820cc6c"
      },
      "source": [
        "## Your Objective\n",
        "\n",
        "Imagine that you are constructing a simulation model that will generate realistic-looking loans of the type shown in this data set. We will focus here on one particular aspect of this: Simulating credit scores.\n",
        "\n",
        "Our focus will be on the column `CSCORE_B`.\n",
        "\n"
      ]
    },
    {
      "cell_type": "markdown",
      "id": "0215d8a7",
      "metadata": {
        "id": "0215d8a7"
      },
      "source": [
        "## Specific Steps\n",
        "\n",
        "1. There are four missing values in `CSCORE_B`. Fill them in by using the following procedure: Cluster the loans, and then determine which cluster each of the loans with the missing value belong to. Replace the missing credit score value with the average credit score of those observations in the same cluster. Of course, the procedure cannot use `CSCORE_B` as one of the variables used to cluster loans. You can use any clustering procedure of your choice.\n",
        "2. Visualize the distribution of `CSCORE_B`. Comment on its shape.\n",
        "3. Find a parametric model that fits to the distribution of `CSCORE_B`. You can consider any distribution you would like, as long as it is parametric. Justify your choice using visualization and AIC. As in any real-world problem, you should not expect the fit to be \"perfect.\" Get the best-fitting parametric distribution that you can. Report the MLE of the parameters for this fit.\n",
        "4. Visualize how the distribution of `CSCORE_B` varies over different property types, i.e., for different values of `PROP`. Does it seem that the distribution changes across the different values of `PROP`? (Just to be clear, when I say \"the distribution changes\" I mean any aspect of the distribution changes. For example, going from a Normal(10,2) distribution to a Normal(12,2) is a \"change\" in distribution.)\n",
        "5. Is there strong evidence that the distribution of `CSCORE_B` varies across the different values of `PROP`? Test a relevant hypothesis, and report the p-value. This test should be performed using a likelihood ratio test."
      ]
    },
    {
      "cell_type": "markdown",
      "id": "620a5542",
      "metadata": {
        "id": "620a5542"
      },
      "source": [
        "## Grading\n",
        "\n",
        "Each of the five steps listed above will be assessed and scored based on three elements: (1) Appropriate choice of method(s) of analysis and/or visualization, (2) correct implmentation of those method(s), and (3) valid interpretation of the results. Each of these three elements will be given equal weight, and the total points allocated to each step are as follows: Step 1, 18 points. Step 2, 6 points. Step 3, 15 points. Step 4, 6 points. Step 5, 18 points. This is a total of 63 points.\n",
        "\n",
        "In addition, the notebooks will be assessed based on the overall quality of the visualizations (on a scale of 0 to 6 points) on the overall quality of practical explanations of results (on a scale of 0 to 6 points), and on overall organization of the notebook, i.e., can we find where the different steps are, etc., or is it a mess (on a scale of 0 to 5 points).\n",
        "\n",
        "Hence, there are total of 80 points."
      ]
    },
    {
      "cell_type": "markdown",
      "id": "ea60a5fc",
      "metadata": {
        "id": "ea60a5fc"
      },
      "source": [
        "## Peer Assessment\n",
        "\n",
        "This is everyone's least favorite part, but I have little choice but to incoporate some component of peer feedback, i.e. assessing how much your groupmates contributed to the work. Without this, I have little basis for avoiding problems where students let the work fall on their groupmates.\n",
        "\n",
        "Any negative information found through this process will be investigated by the instructor.\n",
        "\n",
        "I do reserve the right to adjust individual students' grades based on lack of engagement with the project.\n",
        "\n",
        "The easy way to avoid any problems is to make sure that everyone is engaged and participating. Please advise me of any issues as soon as possible."
      ]
    },
    {
      "cell_type": "markdown",
      "id": "7KinGK5RjtbO",
      "metadata": {
        "id": "7KinGK5RjtbO"
      },
      "source": [
        "## Step 1"
      ]
    },
    {
      "cell_type": "markdown",
      "id": "7xNytx5dllhy",
      "metadata": {
        "id": "7xNytx5dllhy"
      },
      "source": [
        "Import all the python modules used in the notebook"
      ]
    },
    {
      "cell_type": "code",
      "execution_count": null,
      "id": "kes2Tlkzj8Ff",
      "metadata": {
        "id": "kes2Tlkzj8Ff"
      },
      "outputs": [],
      "source": [
        "import numpy as np\n",
        "import pandas as pd\n",
        "import matplotlib.pyplot as plt\n",
        "import gower\n",
        "import seaborn as sns\n",
        "from sklearn.manifold import Isomap\n",
        "from scipy.cluster import hierarchy\n",
        "from pydiffmap import diffusion_map as dm\n",
        "from sklearn.cluster import KMeans\n",
        "from scipy.stats import beta\n",
        "from scipy.stats import lognorm\n",
        "from scipy.stats import gamma\n",
        "import warnings\n",
        "warnings.filterwarnings('ignore')"
      ]
    },
    {
      "cell_type": "code",
      "execution_count": null,
      "id": "6fdfc164",
      "metadata": {},
      "outputs": [],
      "source": [
        "# from google.colab import files\n",
        "# uploaded = files.upload()"
      ]
    },
    {
      "cell_type": "markdown",
      "id": "LbKh50XHlqtx",
      "metadata": {
        "id": "LbKh50XHlqtx"
      },
      "source": [
        "Helper function to format plots."
      ]
    },
    {
      "cell_type": "code",
      "execution_count": null,
      "id": "38b55c81",
      "metadata": {},
      "outputs": [],
      "source": [
        "def niceHist(x, bins=None, density=True, figsize=(12,8), label='histogram', xLabel='X', yLabel='Density', grid=True, title=None, labelSize=16, dist=None, fit=None, fitLabel='fit', fitColor='red'):\n",
        "    plt.figure(figsize=figsize)\n",
        "    p = plt.hist(x, density=density, label=label, bins=bins)\n",
        "    if dist is not None:\n",
        "        xmin, xmax = plt.xlim()\n",
        "        x = np.linspace(xmin, xmax, 100)\n",
        "        plt.plot(x, dist(x, *fit), label=fitLabel, color=fitColor)\n",
        "    plt.grid(grid)\n",
        "    plt.xlabel(xLabel, size=labelSize)\n",
        "    plt.ylabel(yLabel, size=labelSize)\n",
        "    plt.suptitle(title, size=labelSize+4)\n",
        "    plt.legend(prop={'size': labelSize-4})"
      ]
    },
    {
      "cell_type": "markdown",
      "id": "NtbUHrn0juX-",
      "metadata": {
        "colab": {
          "base_uri": "https://localhost:8080/",
          "height": 73,
          "resources": {
            "http://localhost:8080/nbextensions/google.colab/files.js": {
              "data": "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",
              "headers": [
                [
                  "content-type",
                  "application/javascript"
                ]
              ],
              "ok": true,
              "status": 200,
              "status_text": "OK"
            }
          }
        },
        "id": "NtbUHrn0juX-",
        "outputId": "152b5999-492c-43bd-c3cc-945f28121fbe"
      },
      "source": [
        "Load loans data from project.csv file."
      ]
    },
    {
      "cell_type": "code",
      "execution_count": null,
      "id": "Vg2aS3ARjxDL",
      "metadata": {
        "colab": {
          "base_uri": "https://localhost:8080/",
          "height": 591
        },
        "id": "Vg2aS3ARjxDL",
        "outputId": "d19774ed-566d-4d8b-9911-7294408c4e69"
      },
      "outputs": [],
      "source": [
        "columnNamesShort = (\n",
        "    \"POOL_ID\", \"LOAN_ID\", \"ACT_PERIOD\", \"CHANNEL\", \"SELLER\", \n",
        "    \"SERVICER\", \"MASTER_SERVICER\", \"ORIG_RATE\", \"CURR_RATE\", \n",
        "    \"ORIG_UPB\", \"ISSUANCE_UPB\", \"CURRENT_UPB\", \"ORIG_TERM\", \n",
        "    \"ORIG_DATE\", \"FIRST_PAY\", \"LOAN_AGE\", \"REM_MONTHS\", \n",
        "    \"ADJ_REM_MONTHS\", \"MATR_DT\", \"OLTV\", \"OCLTV\",\n",
        "    \"NUM_BO\", \"DTI\", \"CSCORE_B\", \"CSCORE_C\", \"FIRST_FLAG\", \n",
        "    \"PURPOSE\", \"PROP\", \"NO_UNITS\", \"OCC_STAT\", \"STATE\", \"MSA\", \n",
        "    \"ZIP\", \"MI_PCT\", \"PRODUCT\", \"PPMT_FLG\", \"IO\", \n",
        "    \"FIRST_PAY_IO\", \"MNTHS_TO_AMTZ_IO\", \"DLQ_STATUS\", \n",
        "    \"PMT_HISTORY\", \"MOD_FLAG\", \"MI_CANCEL_FLAG\", \"Zero_Bal_Code\",\n",
        "    \"ZB_DTE\", \"LAST_UPB\", \"RPRCH_DTE\", \"CURR_SCHD_PRNCPL\", \n",
        "    \"TOT_SCHD_PRNCPL\", \"UNSCHD_PRNCPL_CURR\", \n",
        "    \"LAST_PAID_INSTALLMENT_DATE\", \"FORECLOSURE_DATE\",\n",
        "    \"DISPOSITION_DATE\", \"FORECLOSURE_COSTS\", \n",
        "    \"PROPERTY_PRESERVATION_AND_REPAIR_COSTS\",\n",
        "    \"ASSET_RECOVERY_COSTS\", \n",
        "    \"MISCELLANEOUS_HOLDING_EXPENSES_AND_CREDITS\",\n",
        "    \"ASSOCIATED_TAXES_FOR_HOLDING_PROPERTY\", \"NET_SALES_PROCEEDS\",\n",
        "    \"CREDIT_ENHANCEMENT_PROCEEDS\", \n",
        "    \"REPURCHASES_MAKE_WHOLE_PROCEEDS\",\n",
        "    \"OTHER_FORECLOSURE_PROCEEDS\", \"NON_INTEREST_BEARING_UPB\", \n",
        "    \"PRINCIPAL_FORGIVENESS_AMOUNT\", \"ORIGINAL_LIST_START_DATE\", \n",
        "    \"ORIGINAL_LIST_PRICE\", \"CURRENT_LIST_START_DATE\",\n",
        "    \"CURRENT_LIST_PRICE\", \"ISSUE_SCOREB\", \"ISSUE_SCOREC\", \n",
        "    \"CURR_SCOREB\", \"CURR_SCOREC\", \"MI_TYPE\", \"SERV_IND\", \n",
        "    \"CURRENT_PERIOD_MODIFICATION_LOSS_AMOUNT\",\n",
        "    \"CUMULATIVE_MODIFICATION_LOSS_AMOUNT\", \n",
        "    \"CURRENT_PERIOD_CREDIT_EVENT_NET_GAIN_OR_LOSS\",\n",
        "    \"CUMULATIVE_CREDIT_EVENT_NET_GAIN_OR_LOSS\", \n",
        "    \"HOMEREADY_PROGRAM_INDICATOR\",\n",
        "    \"FORECLOSURE_PRINCIPAL_WRITE_OFF_AMOUNT\", \n",
        "    \"RELOCATION_MORTGAGE_INDICATOR\",\n",
        "    \"ZERO_BALANCE_CODE_CHANGE_DATE\", \"LOAN_HOLDBACK_INDICATOR\", \n",
        "    \"LOAN_HOLDBACK_EFFECTIVE_DATE\",\"DELINQUENT_ACCRUED_INTEREST\", \n",
        "    \"PROPERTY_INSPECTION_WAIVER_INDICATOR\",\n",
        "    \"HIGH_BALANCE_LOAN_INDICATOR\", \"ARM_5_YR_INDICATOR\", \n",
        "    \"ARM_PRODUCT_TYPE\", \"MONTHS_UNTIL_FIRST_PAYMENT_RESET\", \n",
        "    \"MONTHS_BETWEEN_SUBSEQUENT_PAYMENT_RESET\",\n",
        "    \"INTEREST_RATE_CHANGE_DATE\", \"PAYMENT_CHANGE_DATE\", \n",
        "    \"ARM_INDEX\",\"ARM_CAP_STRUCTURE\", \"INITIAL_INTEREST_RATE_CAP\", \n",
        "    \"PERIODIC_INTEREST_RATE_CAP\",\"LIFETIME_INTEREST_RATE_CAP\", \n",
        "    \"MARGIN\", \"BALLOON_INDICATOR\",\"PLAN_NUMBER\", \n",
        "    \"FORBEARANCE_INDICATOR\", \n",
        "    \"HIGH_LOAN_TO_VALUE_HLTV_REFINANCE_OPTION_INDICATOR\",\n",
        "    \"DEAL_NAME\", \"RE_PROCS_FLAG\", \"ADR_TYPE\", \"ADR_COUNT\", \n",
        "    \"ADR_UPB\"\n",
        ")\n",
        "\n",
        "columnNamesLong = (\n",
        "    'Reference Pool ID',\t'Loan Identifier',\t'Monthly Reporting Period',\t'Channel',\t'Seller Name',\t'Servicer Name',\t'Master Servicer',\t'Original Interest Rate',\t'Current Interest Rate',\n",
        "    'Original UPB',\t'UPB at Issuance',\t'Current Actual UPB',\t'Original Loan Term',\t'Origination Date',\t'First Payment Date',\t'Loan Age',\t'Remaining Months to Legal Maturity',\n",
        "    'Remaining Months To Maturity',\t'Maturity Date',\t'Original Loan to Value Ratio (LTV)',\t'Original Combined Loan to Value Ratio (CLTV)',\t'Number of Borrowers',\t'Debt-To-Income (DTI)',\n",
        "    'Borrower Credit Score at Origination',\t'Co-Borrower Credit Score at Origination',\t'First Time Home Buyer Indicator',\t'Loan Purpose ',\t'Property Type',\t'Number of Units',\n",
        "    'Occupancy Status',\t'Property State',\t'Metropolitan Statistical Area (MSA)',\t'Zip Code Short',\t'Mortgage Insurance Percentage',\t'Amortization Type',\t'Prepayment Penalty Indicator',\n",
        "    'Interest Only Loan Indicator',\t'Interest Only First Principal And Interest Payment Date',\t'Months to Amortization',\t'Current Loan Delinquency Status',\t'Loan Payment History',\n",
        "    'Modification Flag',\t'Mortgage Insurance Cancellation Indicator',\t'Zero Balance Code',\t'Zero Balance Effective Date',\t'UPB at the Time of Removal',\t'Repurchase Date',\n",
        "    'Scheduled Principal Current',\t'Total Principal Current',\t'Unscheduled Principal Current',\t'Last Paid Installment Date',\t'Foreclosure Date',\t'Disposition Date',\t'Foreclosure Costs',\n",
        "    'Property Preservation and Repair Costs',\t'Asset Recovery Costs',\t'Miscellaneous Holding Expenses and Credits',\t'Associated Taxes for Holding Property',\t'Net Sales Proceeds',\n",
        "    'Credit Enhancement Proceeds',\t'Repurchase Make Whole Proceeds',\t'Other Foreclosure Proceeds',\t'Non-Interest Bearing UPB',\t'Principal Forgiveness Amount',\t'Original List Start Date',\n",
        "    'Original List Price',\t'Current List Start Date',\t'Current List Price',\t'Borrower Credit Score At Issuance',\t'Co-Borrower Credit Score At Issuance',\t'Borrower Credit Score Current ',\n",
        "    'Co-Borrower Credit Score Current',\t'Mortgage Insurance Type',\t'Servicing Activity Indicator',\t'Current Period Modification Loss Amount',\t'Cumulative Modification Loss Amount',\n",
        "    'Current Period Credit Event Net Gain or Loss',\t'Cumulative Credit Event Net Gain or Loss',\t'HomeReady Program Indicator',\t'Foreclosure Principal Write-off Amount',\n",
        "    'Relocation Mortgage Indicator',\t'Zero Balance Code Change Date',\t'Loan Holdback Indicator',\t'Loan Holdback Effective Date',\t'Delinquent Accrued Interest',\t'Property Valuation Method ',\n",
        "    'High Balance Loan Indicator ',\t'ARM Initial Fixed-Rate Period  ≤ 5 YR Indicator',\t'ARM Product Type',\t'Initial Fixed-Rate Period ',\t'Interest Rate Adjustment Frequency',\n",
        "    'Next Interest Rate Adjustment Date',\t'Next Payment Change Date',\t'Index',\t'ARM Cap Structure',\t'Initial Interest Rate Cap Up Percent',\t'Periodic Interest Rate Cap Up Percent',\n",
        "    'Lifetime Interest Rate Cap Up Percent',\t'Mortgage Margin',\t'ARM Balloon Indicator',\t'ARM Plan Number',\t'Borrower Assistance Plan',\t'High Loan to Value (HLTV) Refinance Option Indicator',\n",
        "    'Deal Name',\t'Repurchase Make Whole Proceeds Flag',\t'Alternative Delinquency Resolution',\t'Alternative Delinquency  Resolution Count',\t'Total Deferral Amount '\n",
        ")\n",
        "\n",
        "columnNamesMap = dict(zip(columnNamesShort,columnNamesLong))\n",
        "\n",
        "loandata = pd.read_csv(\"project.csv\", sep='|')\n",
        "loandata.columns = columnNamesLong\n",
        "\n",
        "types_from_glossary = [\n",
        "    'ALPHA-NUMERIC',\t'ALPHA-NUMERIC',\t'DATE',\t'ALPHA-NUMERIC',\t'ALPHA-NUMERIC',\t'ALPHA-NUMERIC',\t'ALPHA-NUMERIC',\t'NUMERIC',\t'NUMERIC',\t'NUMERIC',\t'NUMERIC',\t'NUMERIC',\t'NUMERIC',\n",
        "    'DATE',\t'DATE',\t'NUMERIC',\t'NUMERIC',\t'NUMERIC',\t'DATE',\t'NUMERIC',\t'NUMERIC',\t'NUMERIC',\t'NUMERIC',\t'NUMERIC',\t'NUMERIC',\t'ALPHA-NUMERIC',\t'ALPHA-NUMERIC',\t'ALPHA-NUMERIC',\n",
        "    'NUMERIC',\t'ALPHA-NUMERIC',\t'ALPHA-NUMERIC',\t'ALPHA-NUMERIC',\t'ALPHA-NUMERIC',\t'NUMERIC',\t'ALPHA-NUMERIC',\t'ALPHA-NUMERIC',\t'ALPHA-NUMERIC',\t'DATE',\t'NUMERIC',\t'ALPHA-NUMERIC',\n",
        "    'ALPHA-NUMERIC',\t'ALPHA-NUMERIC',\t'ALPHA-NUMERIC',\t'ALPHA-NUMERIC',\t'DATE',\t'NUMERIC',\t'DATE',\t'NUMERIC',\t'NUMERIC',\t'NUMERIC',\t'DATE',\t'DATE',\t'DATE',\t'NUMERIC',\t'NUMERIC',\n",
        "    'NUMERIC',\t'NUMERIC',\t'NUMERIC',\t'NUMERIC',\t'NUMERIC',\t'NUMERIC',\t'NUMERIC',\t'NUMERIC',\t'NUMERIC',\t'DATE',\t'NUMERIC',\t'DATE',\t'NUMERIC',\t'NUMERIC',\t'NUMERIC ',\t'NUMERIC',\n",
        "    'NUMERIC',\t'ALPHA-NUMERIC',\t'ALPHA-NUMERIC',\t'NUMERIC',\t'NUMERIC',\t'NUMERIC',\t'NUMERIC',\t'ALPHA-NUMERIC',\t'NUMERIC',\t'ALPHA-NUMERIC',\t'DATE',\t'ALPHA-NUMERIC',\t'DATE',\t'NUMERIC',\n",
        "    'ALPHA-NUMERIC',\t'ALPHA-NUMERIC',\t'ALPHA-NUMERIC',\t'ALPHA-NUMERIC',\t'NUMERIC',\t'NUMERIC',\t'DATE',\t'DATE',\t'ALPHA-NUMERIC',\t'ALPHA-NUMERIC',\t'NUMERIC',\t'NUMERIC',\t'NUMERIC',\n",
        "    'NUMERIC',\t'ALPHA-NUMERIC',\t'NUMERIC',\t'ALPHA-NUMERIC',\t'ALPHA-NUMERIC',\t'ALPHA-NUMERIC',\t'ALPHA-NUMERIC',\t'ALPHA-NUMERIC',\t'NUMERIC',\t'NUMERIC'\n",
        "]\n",
        "\n",
        "loandata = loandata.dropna(axis=1, how='all')\n",
        "loandata.head()"
      ]
    },
    {
      "cell_type": "markdown",
      "id": "Ux7l1SPilt8e",
      "metadata": {
        "id": "Ux7l1SPilt8e"
      },
      "source": [
        "Remove columns that have no information in them like loan ID and columns with the same value for all rows."
      ]
    },
    {
      "cell_type": "code",
      "execution_count": null,
      "id": "QMkHjjbilww8",
      "metadata": {
        "id": "QMkHjjbilww8"
      },
      "outputs": [],
      "source": [
        "loandata2 = loandata.drop(columns=[\n",
        "    'Reference Pool ID', 'Loan Identifier', 'Monthly Reporting Period', 'Servicer Name', 'Master Servicer', \n",
        "    'Metropolitan Statistical Area (MSA)',\n",
        "    'Zip Code Short','Deal Name', \n",
        "    #'UPB at Issuance', \n",
        "    'Amortization Type', 'Prepayment Penalty Indicator',\n",
        "    'Interest Only Loan Indicator', 'Loan Payment History', 'Non-Interest Bearing UPB', 'Principal Forgiveness Amount',\n",
        "    'Current Period Modification Loss Amount', 'Cumulative Credit Event Net Gain or Loss', 'Foreclosure Principal Write-off Amount',\n",
        "    'ARM Balloon Indicator', 'High Loan to Value (HLTV) Refinance Option Indicator',\n",
        "    'Alternative Delinquency  Resolution Count'\n",
        "]) "
      ]
    },
    {
      "cell_type": "markdown",
      "id": "W6s9FZdAlzTl",
      "metadata": {
        "id": "W6s9FZdAlzTl"
      },
      "source": [
        "Convert date columns in string MMYYYY format to numeric values (julian dates) to make distance metric more sensible."
      ]
    },
    {
      "cell_type": "code",
      "execution_count": null,
      "id": "PESHp21-mAbE",
      "metadata": {
        "id": "PESHp21-mAbE"
      },
      "outputs": [],
      "source": [
        "def toJulianDate(df, cols):\n",
        "    for col in cols:\n",
        "        datesCol = pd.to_datetime(df[col], format='%m%Y', errors='coerce')\n",
        "        df[col] = datesCol.apply(pd.Timestamp.to_julian_date)\n",
        "    return df\n",
        "\n",
        "loandata2 = toJulianDate(loandata2, ['Origination Date','First Payment Date','Maturity Date'])"
      ]
    },
    {
      "cell_type": "markdown",
      "id": "9djxqXmxmdlO",
      "metadata": {
        "id": "9djxqXmxmdlO"
      },
      "source": [
        "# clustering Kmeans with Gower distance"
      ]
    },
    {
      "cell_type": "code",
      "execution_count": null,
      "id": "EA_5C1DAm_mL",
      "metadata": {
        "id": "EA_5C1DAm_mL"
      },
      "outputs": [],
      "source": [
        "tmpdata = loandata2.drop(columns=[columnNamesMap['CSCORE_B']])\n",
        "distMat = gower.gower_matrix(tmpdata.fillna(0))\n",
        "kminit = KMeans(n_clusters=4, n_init=10)\n",
        "kmout = kminit.fit(distMat)"
      ]
    },
    {
      "cell_type": "code",
      "execution_count": null,
      "id": "yJcFpgeGgP8J",
      "metadata": {
        "id": "yJcFpgeGgP8J"
      },
      "outputs": [],
      "source": [
        "loandata2[\"kmclust\"] = kmout.labels_\n",
        "loandata2[\"kmclust\"] = loandata2[\"kmclust\"].astype('category').cat.as_unordered()\n",
        "loandata2['IS_CSCORE_B_NAN'] = loandata2['Borrower Credit Score at Origination'].isnull()"
      ]
    },
    {
      "cell_type": "markdown",
      "id": "KTnhXAxKrvSJ",
      "metadata": {
        "id": "KTnhXAxKrvSJ"
      },
      "source": [
        "update score based on average from cluster"
      ]
    },
    {
      "cell_type": "code",
      "execution_count": null,
      "id": "DbU1N-nQr3Q9",
      "metadata": {
        "id": "DbU1N-nQr3Q9"
      },
      "outputs": [],
      "source": [
        "tmpdata = loandata2[loandata2['IS_CSCORE_B_NAN']==True][['kmclust', 'IS_CSCORE_B_NAN', columnNamesMap['CSCORE_B']]]\n",
        "for idx in tmpdata.index.values:\n",
        "  clusterNum = tmpdata.loc[idx,'kmclust']\n",
        "  loandata2.loc[idx, columnNamesMap['CSCORE_B']] = loandata2[loandata2['kmclust']==clusterNum][columnNamesMap['CSCORE_B']].mean()\n",
        "\n"
      ]
    },
    {
      "cell_type": "code",
      "execution_count": null,
      "id": "Pbe3L5c7iulf",
      "metadata": {
        "colab": {
          "base_uri": "https://localhost:8080/",
          "height": 175
        },
        "id": "Pbe3L5c7iulf",
        "outputId": "eb22bddc-8083-4a90-acbe-c78a82bf9612"
      },
      "outputs": [],
      "source": [
        "bla = loandata2[loandata2['IS_CSCORE_B_NAN']==True][['kmclust', 'IS_CSCORE_B_NAN', columnNamesMap['CSCORE_B']]]\n",
        "bla"
      ]
    },
    {
      "cell_type": "markdown",
      "id": "vVqu_yqM7ggH",
      "metadata": {
        "id": "vVqu_yqM7ggH"
      },
      "source": [
        "## Step 2"
      ]
    },
    {
      "cell_type": "code",
      "execution_count": null,
      "id": "z_IFSt5SjUgF",
      "metadata": {
        "colab": {
          "base_uri": "https://localhost:8080/",
          "height": 265
        },
        "id": "z_IFSt5SjUgF",
        "outputId": "0f115187-34ab-43bb-e94e-9dea5db559c5"
      },
      "outputs": [],
      "source": [
        "scores = loandata2[columnNamesMap['CSCORE_B']].values\n",
        "niceHist(scores, bins=np.linspace(500.,900.,41), density=True, label='CSCORE_B', xLabel='CSCORE_B', title='Borrower Credit Score at Origination')"
      ]
    },
    {
      "cell_type": "markdown",
      "id": "-BwhngZQ6D0T",
      "metadata": {
        "id": "-BwhngZQ6D0T"
      },
      "source": [
        "We have a left skewed distribution."
      ]
    },
    {
      "cell_type": "markdown",
      "id": "Ql5ZJ_Uk7i6M",
      "metadata": {
        "id": "Ql5ZJ_Uk7i6M"
      },
      "source": [
        "## Step 3"
      ]
    },
    {
      "cell_type": "markdown",
      "id": "kvt9jDJg7j-C",
      "metadata": {
        "id": "kvt9jDJg7j-C"
      },
      "source": [
        "Given that the scores distribution is negatively skewed we can fit a Beta distribution."
      ]
    },
    {
      "cell_type": "code",
      "execution_count": null,
      "id": "AM7XN5GxAwYx",
      "metadata": {
        "id": "AM7XN5GxAwYx"
      },
      "outputs": [],
      "source": [
        "scores1 = scores/1000"
      ]
    },
    {
      "cell_type": "code",
      "execution_count": null,
      "id": "J-dHOyfFD5CR",
      "metadata": {
        "colab": {
          "base_uri": "https://localhost:8080/",
          "height": 281
        },
        "id": "J-dHOyfFD5CR",
        "outputId": "f4bb397c-3d9f-4738-d756-a9366858a968"
      },
      "outputs": [],
      "source": [
        "betafit = beta.fit(scores1)\n",
        "niceHist(\n",
        "    scores1, bins=np.linspace(0.5,0.9,41), label='CSCORE_B/1000', xLabel='CSCORE_B/1000', \n",
        "    title='Borrower Credit Score, Beta function fit', dist=beta.pdf, fit=betafit, \n",
        "    fitLabel=f'B($\\\\alpha$={betafit[0]:.2f}, $\\\\beta$={betafit[1]:.2f}, l={betafit[2]:.2f}, s={betafit[3]:.2f})'\n",
        ")\n"
      ]
    },
    {
      "cell_type": "markdown",
      "id": "-oGSYsbBpUTq",
      "metadata": {
        "id": "-oGSYsbBpUTq"
      },
      "source": [
        "There isn't plenty of choice of negatively skewed distributions so invert the scores and try to fit Lognormal, Gamma and Beta distributions."
      ]
    },
    {
      "cell_type": "code",
      "execution_count": null,
      "id": "qJbiIidZFelj",
      "metadata": {
        "colab": {
          "base_uri": "https://localhost:8080/",
          "height": 300
        },
        "id": "qJbiIidZFelj",
        "outputId": "6e7a1c8c-b697-4a14-9914-af640083d31b"
      },
      "outputs": [],
      "source": [
        "\n",
        "scores2 = 1-scores1\n",
        "lognormalfit = lognorm.fit(scores2)\n",
        "\n",
        "niceHist(\n",
        "    scores2, bins=np.linspace(0.1,0.5,41), label='1 - CSCORE_B/1000', xLabel='1 - CSCORE_B/1000', \n",
        "    title='Borrower Credit Score, Lognormal fit', dist=lognorm.pdf, fit=lognormalfit, \n",
        "    fitLabel=f'LN($\\\\sigma$={lognormalfit[0]:.2f}, l={lognormalfit[1]:.2f}, s={lognormalfit[2]:.2f})'\n",
        ")"
      ]
    },
    {
      "cell_type": "code",
      "execution_count": null,
      "id": "CGo13MmBltzZ",
      "metadata": {
        "colab": {
          "base_uri": "https://localhost:8080/",
          "height": 300
        },
        "id": "CGo13MmBltzZ",
        "outputId": "79193b7a-ae46-4956-c0a5-9caa6520647a"
      },
      "outputs": [],
      "source": [
        "betafit2 = beta.fit(scores2)\n",
        "niceHist(\n",
        "    scores2, bins=np.linspace(0.1,0.5,41), label='1 - CSCORE_B/1000', xLabel='1 - CSCORE_B/1000', \n",
        "    title='Borrower Credit Score, Beta function fit', dist=beta.pdf, fit=betafit2, \n",
        "    fitLabel=f'B($\\\\alpha$={betafit2[0]:.2f}, $\\\\beta$={betafit2[1]:.2f}, l={betafit2[2]:.2f}, s={betafit2[3]:.2f})'\n",
        ")"
      ]
    },
    {
      "cell_type": "code",
      "execution_count": null,
      "id": "I_IVN937mmug",
      "metadata": {
        "colab": {
          "base_uri": "https://localhost:8080/",
          "height": 300
        },
        "id": "I_IVN937mmug",
        "outputId": "0a035411-88ae-40e5-ad51-7d2a3e12f2fa"
      },
      "outputs": [],
      "source": [
        "gammafit = gamma.fit(scores2)\n",
        "\n",
        "niceHist(\n",
        "    scores2, bins=np.linspace(0.1,0.5,41), label='1 - CSCORE_B/1000', xLabel='1 - CSCORE_B/1000', \n",
        "    title='Borrower Credit Score, Gamma fit', dist=gamma.pdf, fit=gammafit, \n",
        "    fitLabel=f'$\\\\Gamma$($\\\\sigma$={gammafit[0]:.2f}, l={gammafit[1]:.2f}, s={gammafit[2]:.2f})'\n",
        ")"
      ]
    },
    {
      "cell_type": "markdown",
      "id": "Yu9VagjqpocD",
      "metadata": {
        "id": "Yu9VagjqpocD"
      },
      "source": [
        "Compute AIC and choose best model:"
      ]
    },
    {
      "cell_type": "code",
      "execution_count": null,
      "id": "sdDfhqppps7K",
      "metadata": {
        "colab": {
          "base_uri": "https://localhost:8080/"
        },
        "id": "sdDfhqppps7K",
        "outputId": "3eb42a4e-f9a2-47e0-85ff-2f6657a6f8ef"
      },
      "outputs": [],
      "source": [
        "aic_lognormal = -2*sum(lognorm.logpdf(scores2,lognormalfit[0], lognormalfit[1], lognormalfit[2]))+6\n",
        "print(f'Lognormal fit AIC = {aic_lognormal}')\n",
        "aic_gamma = -2*sum(gamma.logpdf(scores2,gammafit[0], gammafit[1],gammafit[2]))+6\n",
        "print(f'Gamma fit AIC = {aic_gamma}')\n",
        "aic_beta = -2*sum(beta.logpdf(scores2,betafit2[0], betafit2[1],betafit2[2], betafit2[3]))+8\n",
        "print(f'Beta fit AIC = {aic_beta}')"
      ]
    },
    {
      "cell_type": "markdown",
      "id": "pa3ww5Lss-wn",
      "metadata": {
        "id": "pa3ww5Lss-wn"
      },
      "source": [
        "Best fit for Beta!"
      ]
    },
    {
      "cell_type": "markdown",
      "id": "fd814854",
      "metadata": {},
      "source": [
        "## Step 4"
      ]
    },
    {
      "cell_type": "code",
      "execution_count": null,
      "id": "11f3d125",
      "metadata": {},
      "outputs": [],
      "source": [
        "loandata2['CSCORE2'] = 1-loandata2[columnNamesMap['CSCORE_B']]/1000\n",
        "g = sns.FacetGrid(loandata2, row=columnNamesMap['PROP'], height=4, aspect=3)\n",
        "g.map(sns.kdeplot, 'CSCORE2')"
      ]
    },
    {
      "cell_type": "code",
      "execution_count": null,
      "id": "a04f4311",
      "metadata": {},
      "outputs": [],
      "source": [
        "fig = plt.figure(figsize=(24,12))\n",
        "ax = fig.add_subplot(121)\n",
        "ax.set_xlim(0.15, 0.5)\n",
        "bins = np.linspace(0.1,0.5,36)\n",
        "fits = {}\n",
        "for prop in ('SF', 'PU', 'CO'):\n",
        "    score = loandata2[(loandata2[columnNamesMap['PROP']]==prop)]['CSCORE2']\n",
        "    plt.hist(score, density=True, label=f'{prop} data', bins=bins, histtype='step')\n",
        "    fits[prop] = beta.fit(score)    \n",
        "    x = np.linspace(0.1, 0.5, 100)\n",
        "    plt.plot(x, beta.pdf(x, *fits[prop]), label=f'{prop} fit: B($\\\\alpha$={fits[prop][0]:.2f}, $\\\\beta$={fits[prop][1]:.2f}, l={fits[prop][2]:.2f}, s={fits[prop][3]:.2f})',)\n",
        "plt.grid(True)\n",
        "plt.xlabel('1 - CSCORE_B/1000', size=16)\n",
        "plt.ylabel('Density', size=16)\n",
        "plt.legend(prop={'size': 12})\n",
        "\n",
        "ax = fig.add_subplot(122)\n",
        "ax.set_xlim(0.15, 0.5)\n",
        "bins = np.linspace(0.1,0.5,36)\n",
        "fits = {}\n",
        "for prop in ('CP', 'MH'):\n",
        "    score = loandata2[(loandata2[columnNamesMap['PROP']]==prop)]['CSCORE2']\n",
        "    plt.hist(score, density=True, label=f'{prop} data', bins=bins, histtype='step')\n",
        "    fits[prop] = beta.fit(score)    \n",
        "    x = np.linspace(0.1, 0.5, 100)\n",
        "    plt.plot(x, beta.pdf(x, *fits[prop]), label=f'{prop} fit: B($\\\\alpha$={fits[prop][0]:.2f}, $\\\\beta$={fits[prop][1]:.2f}, l={fits[prop][2]:.2f}, s={fits[prop][3]:.2f})',)\n",
        "plt.grid(True)\n",
        "plt.xlabel('1 - CSCORE_B/1000', size=16)\n",
        "plt.ylabel('Density', size=16)\n",
        "plt.suptitle('Distributions of CSCORE_B for different propery types', size=20)\n",
        "plt.legend(prop={'size': 12})"
      ]
    },
    {
      "cell_type": "markdown",
      "id": "c9dcfc21",
      "metadata": {},
      "source": [
        "## Step 5"
      ]
    }
  ],
  "metadata": {
    "colab": {
      "collapsed_sections": [],
      "name": "FinalProjectFall2021.ipynb",
      "provenance": []
    },
    "kernelspec": {
      "display_name": "Python 3 (ipykernel)",
      "language": "python",
      "name": "python3"
    },
    "language_info": {
      "codemirror_mode": {
        "name": "ipython",
        "version": 3
      },
      "file_extension": ".py",
      "mimetype": "text/x-python",
      "name": "python",
      "nbconvert_exporter": "python",
      "pygments_lexer": "ipython3",
      "version": "3.9.7"
    }
  },
  "nbformat": 4,
  "nbformat_minor": 5
}
